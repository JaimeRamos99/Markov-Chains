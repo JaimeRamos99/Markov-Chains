{
  "nbformat": 4,
  "nbformat_minor": 0,
  "metadata": {
    "colab": {
      "name": "Markov-Chain.ipynb",
      "provenance": []
    },
    "kernelspec": {
      "name": "python3",
      "display_name": "Python 3"
    }
  },
  "cells": [
    {
      "cell_type": "markdown",
      "metadata": {
        "id": "pK4REinyp9_A"
      },
      "source": [
        "#**Markov Chain**"
      ]
    },
    {
      "cell_type": "markdown",
      "metadata": {
        "id": "um2HJoaVqBE9"
      },
      "source": [
        "**Importing libraries**"
      ]
    },
    {
      "cell_type": "code",
      "metadata": {
        "id": "-5LDI0bfpxwr"
      },
      "source": [
        "import numpy as np"
      ],
      "execution_count": 1,
      "outputs": []
    },
    {
      "cell_type": "markdown",
      "metadata": {
        "id": "1VFaXOJUqHOX"
      },
      "source": [
        "**Splitting and organizing initial data**"
      ]
    },
    {
      "cell_type": "code",
      "metadata": {
        "id": "u01IYyGnqH7W"
      },
      "source": [
        "sentence = [\"Thank you for your help END\",\"Thank you END\",\"Thank you for all your help END\",\"Thank you for your assistance END\",\"Thank you for everything END END\"]\r\n",
        "words = []\r\n",
        "Dict = {}\r\n",
        "count = 0\r\n",
        "for s in sentence:\r\n",
        "  for i in s.split(\" \"):\r\n",
        "    if i not in Dict.keys():\r\n",
        "      Dict[i] = count\r\n",
        "      count = count + 1\r\n",
        "      words.append(i)\r\n",
        "sz=len(Dict)"
      ],
      "execution_count": 2,
      "outputs": []
    },
    {
      "cell_type": "code",
      "metadata": {
        "id": "Gs-p1PIrqOxQ"
      },
      "source": [
        "def summing(ar):\r\n",
        "  s = 0\r\n",
        "  for x in ar:\r\n",
        "    s = s + x\r\n",
        "  return s"
      ],
      "execution_count": 3,
      "outputs": []
    },
    {
      "cell_type": "markdown",
      "metadata": {
        "id": "aqk-bXKjqNPz"
      },
      "source": [
        "**Creating the transiton matrix**"
      ]
    },
    {
      "cell_type": "code",
      "metadata": {
        "id": "yvZ3uWvbqc6F"
      },
      "source": [
        "trans_mtx=np.zeros((sz,sz))\r\n",
        "for s in sentence:\r\n",
        "  temp = None\r\n",
        "  for i in s.split(\" \"):\r\n",
        "    if temp is not None:\r\n",
        "      y = Dict[temp]\r\n",
        "      x = Dict[i]\r\n",
        "      trans_mtx[y, x] = trans_mtx[y, x] + 1\r\n",
        "    temp = i\r\n",
        "for i in range(sz):\r\n",
        "  row = trans_mtx[i]\r\n",
        "  total = summing(trans_mtx[i])\r\n",
        "  if total>0:\r\n",
        "    trans_mtx[i] = row/total"
      ],
      "execution_count": 4,
      "outputs": []
    },
    {
      "cell_type": "markdown",
      "metadata": {
        "id": "VyX-aB1mqj3V"
      },
      "source": [
        "**Validating the transition matrix**"
      ]
    },
    {
      "cell_type": "code",
      "metadata": {
        "colab": {
          "base_uri": "https://localhost:8080/"
        },
        "id": "79JjlymsqnAr",
        "outputId": "beb12d61-a1db-44e2-df90-256f8d4cf3cc"
      },
      "source": [
        "flag = True\r\n",
        "for i in range(sz):\r\n",
        "  if summing(trans_mtx[i])!=1:\r\n",
        "    flag = False\r\n",
        "if flag:\r\n",
        "  print(\"The transition matrix seems well defined, Continue!\")\r\n",
        "else:\r\n",
        "  print(\"Hmm something is not ok...\")"
      ],
      "execution_count": 5,
      "outputs": [
        {
          "output_type": "stream",
          "text": [
            "The transition matrix seems well defined, Continue!\n"
          ],
          "name": "stdout"
        }
      ]
    },
    {
      "cell_type": "markdown",
      "metadata": {
        "id": "Cf8OVT1dqpbV"
      },
      "source": [
        "**Function that receives the initial word and return a sentence, based on the input and the transition matrix**"
      ]
    },
    {
      "cell_type": "code",
      "metadata": {
        "id": "SWGeJi7hqwef"
      },
      "source": [
        "words_mirror = words\r\n",
        "def cicle_markov(w):\r\n",
        "  word = w\r\n",
        "  flag = True\r\n",
        "  words_list = []\r\n",
        "  words_list.append(word)\r\n",
        "  while flag:\r\n",
        "    pos = Dict[word]\r\n",
        "    word = np.random.choice(words_mirror,replace=True,p=trans_mtx[pos])\r\n",
        "    words_list.append(word)\r\n",
        "    if word == \"END\":\r\n",
        "      flag = False\r\n",
        "  return words_list"
      ],
      "execution_count": 6,
      "outputs": []
    },
    {
      "cell_type": "code",
      "metadata": {
        "colab": {
          "base_uri": "https://localhost:8080/"
        },
        "id": "LdzgOUn0qzn0",
        "outputId": "b3f109d6-fcdd-4715-a217-5181d25e0952"
      },
      "source": [
        "n = 5000\r\n",
        "times = 0\r\n",
        "for i in range(n):\r\n",
        "  result_sentence = cicle_markov(\"Thank\")\r\n",
        "  if len(result_sentence) == 3: \r\n",
        "    times+=1\r\n",
        "  #print(result_sentence) #this line can be uncommented to see the exact sentence that the MC returns\r\n",
        "print(times/n * 100,\"% of the times 'Thank you' was suggested\")"
      ],
      "execution_count": 7,
      "outputs": [
        {
          "output_type": "stream",
          "text": [
            "19.52 % of the times 'Thank you' was suggested\n"
          ],
          "name": "stdout"
        }
      ]
    },
    {
      "cell_type": "markdown",
      "metadata": {
        "id": "q9z0BhEaq2ms"
      },
      "source": [
        "**Conclusion**"
      ]
    },
    {
      "cell_type": "markdown",
      "metadata": {
        "id": "LoIZVSwDruf9"
      },
      "source": [
        "As the n increases, the times 'Thank you' appears as an answer converges to the exact theorical value (20%)."
      ]
    }
  ]
}